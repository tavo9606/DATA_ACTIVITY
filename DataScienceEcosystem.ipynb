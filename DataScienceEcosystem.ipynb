{
 "cells": [
  {
   "cell_type": "markdown",
   "id": "54931aa2-0ef9-4193-97ae-a139670273db",
   "metadata": {},
   "source": [
    "# Data Science Tools and Ecosystem"
   ]
  },
  {
   "cell_type": "markdown",
   "id": "01ea530d-103c-4851-ba45-63093ad1047d",
   "metadata": {},
   "source": [
    "# In this notebook, Data Science Tools and Ecosystem are summarized."
   ]
  },
  {
   "cell_type": "markdown",
   "id": "d86886b5-e62d-40f5-81f2-9a671df42d39",
   "metadata": {},
   "source": [
    "# Objectives: Develop practical skills in the use of open-source data science tools to collect, process, analyze, and visualize data in order to extract valuable insights and make data-driven decisions.\n",
    "* Open Source Tools for Data Science\n",
    "* Languages of Data Science\n",
    "* Libraries for Data Science\n",
    "* Application Programming Interfaces (APIs)\n",
    "* GitHub Repositories"
   ]
  },
  {
   "cell_type": "markdown",
   "id": "35f8256a-0218-4006-94e7-3491e0f8225b",
   "metadata": {},
   "source": [
    "# Some of the popular languages that Data Scientists use are:"
   ]
  },
  {
   "cell_type": "markdown",
   "id": "171cbddb-fdf2-4374-82d2-39024d4f8380",
   "metadata": {},
   "source": [
    "# ordered list\n",
    "* Python\n",
    "* Julia\n",
    "* R"
   ]
  },
  {
   "cell_type": "markdown",
   "id": "e6b30700-342d-4ad6-b441-9a294304f54f",
   "metadata": {},
   "source": [
    "# Some of the commonly used libraries used by Data Scientists include:\n",
    "\n",
    "* NumPy\n",
    "* Pandas\n",
    "* Matplotlib\n",
    "* TensorFlow"
   ]
  },
  {
   "cell_type": "markdown",
   "id": "b1eacf75-fd92-42aa-905b-b53b92e9bb28",
   "metadata": {},
   "source": [
    "# Data Science Tools\n",
    "| Data Science Tools   |\n",
    "|----------------------|\n",
    "| Jupyter Notebook     |\n",
    "| Apache Spark         |\n",
    "| RStudio              |\n",
    "| Orange               |\n",
    "\n",
    "\n"
   ]
  },
  {
   "cell_type": "markdown",
   "id": "47b7b5b9-0094-45ff-a6a5-a1232c05f41e",
   "metadata": {},
   "source": [
    "### Below are a few examples of evaluating arithmetic expressions in Python\n"
   ]
  },
  {
   "cell_type": "markdown",
   "id": "61a146da-65e1-422d-a7a5-ea79682d07db",
   "metadata": {},
   "source": [
    "# This a simple arithmetic expression to mutiply then add integers\n",
    "\n",
    "(3*4)+5 = 17"
   ]
  },
  {
   "cell_type": "markdown",
   "id": "7c5301df-139f-4e17-8a9e-fbfb19562dcb",
   "metadata": {},
   "source": [
    "# This will convert 200 minutes to hours by diving by 60\n"
   ]
  },
  {
   "cell_type": "code",
   "execution_count": 4,
   "id": "2d122244-4cec-4cda-a053-9e4c14ae7f23",
   "metadata": {},
   "outputs": [
    {
     "data": {
      "text/plain": [
       "3.3333333333333335"
      ]
     },
     "execution_count": 4,
     "metadata": {},
     "output_type": "execute_result"
    }
   ],
   "source": [
    "200 / 60\n"
   ]
  },
  {
   "cell_type": "markdown",
   "id": "47f64d44-bf2f-43fb-b01a-edefca101a23",
   "metadata": {},
   "source": [
    "## Author : \n",
    "Gustavo Vasquez"
   ]
  },
  {
   "cell_type": "code",
   "execution_count": null,
   "id": "68eb3db7-897b-43f3-9bc8-08d97e10922f",
   "metadata": {},
   "outputs": [],
   "source": [
    "https://github.com/tavo9606/ACTIVITY_DATA.git"
   ]
  }
 ],
 "metadata": {
  "kernelspec": {
   "display_name": "Python 3 (ipykernel)",
   "language": "python",
   "name": "python3"
  },
  "language_info": {
   "codemirror_mode": {
    "name": "ipython",
    "version": 3
   },
   "file_extension": ".py",
   "mimetype": "text/x-python",
   "name": "python",
   "nbconvert_exporter": "python",
   "pygments_lexer": "ipython3",
   "version": "3.12.7"
  }
 },
 "nbformat": 4,
 "nbformat_minor": 5
}
